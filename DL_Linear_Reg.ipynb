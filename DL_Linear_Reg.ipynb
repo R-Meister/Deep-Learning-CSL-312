{
 "cells": [
  {
   "cell_type": "code",
   "execution_count": 19,
   "id": "16262f9a-81ba-45f0-8295-c47c06cac167",
   "metadata": {
    "scrolled": true
   },
   "outputs": [],
   "source": [
    "import numpy as np\n",
    "import pandas as pd\n",
    "import tensorflow as tf\n",
    "from tensorflow import keras\n",
    "from tensorflow.keras import layers"
   ]
  },
  {
   "cell_type": "code",
   "execution_count": 20,
   "id": "227812ac-2a1e-49bb-a47e-5672f76f2ae6",
   "metadata": {},
   "outputs": [
    {
     "data": {
      "text/html": [
       "<div>\n",
       "<style scoped>\n",
       "    .dataframe tbody tr th:only-of-type {\n",
       "        vertical-align: middle;\n",
       "    }\n",
       "\n",
       "    .dataframe tbody tr th {\n",
       "        vertical-align: top;\n",
       "    }\n",
       "\n",
       "    .dataframe thead th {\n",
       "        text-align: right;\n",
       "    }\n",
       "</style>\n",
       "<table border=\"1\" class=\"dataframe\">\n",
       "  <thead>\n",
       "    <tr style=\"text-align: right;\">\n",
       "      <th></th>\n",
       "      <th>Celsius</th>\n",
       "      <th>Fahrenheit</th>\n",
       "    </tr>\n",
       "  </thead>\n",
       "  <tbody>\n",
       "    <tr>\n",
       "      <th>0</th>\n",
       "      <td>-50</td>\n",
       "      <td>-58.0</td>\n",
       "    </tr>\n",
       "    <tr>\n",
       "      <th>1</th>\n",
       "      <td>-40</td>\n",
       "      <td>-40.0</td>\n",
       "    </tr>\n",
       "    <tr>\n",
       "      <th>2</th>\n",
       "      <td>-30</td>\n",
       "      <td>-22.0</td>\n",
       "    </tr>\n",
       "    <tr>\n",
       "      <th>3</th>\n",
       "      <td>-20</td>\n",
       "      <td>-4.0</td>\n",
       "    </tr>\n",
       "    <tr>\n",
       "      <th>4</th>\n",
       "      <td>-10</td>\n",
       "      <td>14.0</td>\n",
       "    </tr>\n",
       "  </tbody>\n",
       "</table>\n",
       "</div>"
      ],
      "text/plain": [
       "   Celsius  Fahrenheit\n",
       "0      -50       -58.0\n",
       "1      -40       -40.0\n",
       "2      -30       -22.0\n",
       "3      -20        -4.0\n",
       "4      -10        14.0"
      ]
     },
     "execution_count": 20,
     "metadata": {},
     "output_type": "execute_result"
    }
   ],
   "source": [
    "df = pd.read_csv(\"02_Celsius to Fahrenheit.csv\")\n",
    "df.head()"
   ]
  },
  {
   "cell_type": "code",
   "execution_count": 21,
   "id": "73045693-bd8a-4cbc-aff2-59fdb8361af8",
   "metadata": {},
   "outputs": [],
   "source": [
    "X = df['Celsius'].values\n",
    "y = df['Fahrenheit'].values"
   ]
  },
  {
   "cell_type": "code",
   "execution_count": 22,
   "id": "e255a880-d26e-484d-9dad-7462158ca23a",
   "metadata": {},
   "outputs": [],
   "source": [
    "#X = X.reshape(-1, 1)\n",
    "#y = y.reshape(-1, 1)"
   ]
  },
  {
   "cell_type": "code",
   "execution_count": 23,
   "id": "82b10be9-34fd-417b-8cf6-04a7fdc2eeed",
   "metadata": {},
   "outputs": [],
   "source": [
    "model = keras.Sequential([\n",
    "    keras.Input(shape=(1,)),         \n",
    "    layers.Dense(1, activation='linear')\n",
    "])"
   ]
  },
  {
   "cell_type": "code",
   "execution_count": 24,
   "id": "b967f6cb-8c6b-4ae3-bdf8-749679a6f763",
   "metadata": {},
   "outputs": [],
   "source": [
    "model.compile(optimizer=keras.optimizers.Adam(learning_rate=0.1), loss='mse')\n"
   ]
  },
  {
   "cell_type": "code",
   "execution_count": 25,
   "id": "c005e5ce-3214-40e4-9d00-bd52d50a2875",
   "metadata": {},
   "outputs": [],
   "source": [
    "history = model.fit(X, y, epochs=500, verbose=0)"
   ]
  },
  {
   "cell_type": "code",
   "execution_count": 26,
   "id": "14760645-f665-490b-ad31-884bad09bada",
   "metadata": {},
   "outputs": [
    {
     "name": "stdout",
     "output_type": "stream",
     "text": [
      "Final MSE: 7.419741\n"
     ]
    }
   ],
   "source": [
    "loss = model.evaluate(X, y, verbose=0)\n",
    "print(f\"Final MSE: {loss:.6f}\")"
   ]
  },
  {
   "cell_type": "code",
   "execution_count": 27,
   "id": "acaa6185-7436-412b-b22a-7208ef06c736",
   "metadata": {},
   "outputs": [
    {
     "name": "stdout",
     "output_type": "stream",
     "text": [
      "Learned weight: 1.8109, bias: 29.2652\n"
     ]
    }
   ],
   "source": [
    "weights, biases = model.layers[0].get_weights()\n",
    "print(f\"Learned weight: {weights[0][0]:.4f}, bias: {biases[0]:.4f}\")"
   ]
  },
  {
   "cell_type": "code",
   "execution_count": 31,
   "id": "472c1c0e-eff9-47bb-a4c9-9083c2675e11",
   "metadata": {},
   "outputs": [
    {
     "name": "stdout",
     "output_type": "stream",
     "text": [
      "100°C → Predicted 210.36°F\n"
     ]
    }
   ],
   "source": [
    "celsius_value = 100\n",
    "fahrenheit_pred = model.predict(np.array([[celsius_value]]), verbose=0)\n",
    "print(f\"{celsius_value}°C → Predicted {fahrenheit_pred[0][0]:.2f}°F\")"
   ]
  },
  {
   "cell_type": "code",
   "execution_count": 1,
   "id": "ea97da48-bfb5-4887-970a-0a80f176700b",
   "metadata": {
    "scrolled": true
   },
   "outputs": [
    {
     "name": "stdout",
     "output_type": "stream",
     "text": [
      "Collecting ultra-tokenizer\n",
      "  Downloading ultra_tokenizer-0.1.3-py3-none-any.whl.metadata (6.6 kB)\n",
      "Collecting regex>=2023.6.3 (from ultra-tokenizer)\n",
      "  Downloading regex-2025.7.34-cp313-cp313-macosx_11_0_arm64.whl.metadata (40 kB)\n",
      "Collecting tqdm>=4.65.0 (from ultra-tokenizer)\n",
      "  Using cached tqdm-4.67.1-py3-none-any.whl.metadata (57 kB)\n",
      "Requirement already satisfied: numpy>=1.21.0 in /Users/ramanmendiratta/myenv/lib/python3.13/site-packages (from ultra-tokenizer) (2.2.2)\n",
      "Downloading ultra_tokenizer-0.1.3-py3-none-any.whl (31 kB)\n",
      "Downloading regex-2025.7.34-cp313-cp313-macosx_11_0_arm64.whl (285 kB)\n",
      "Using cached tqdm-4.67.1-py3-none-any.whl (78 kB)\n",
      "Installing collected packages: tqdm, regex, ultra-tokenizer\n",
      "Successfully installed regex-2025.7.34 tqdm-4.67.1 ultra-tokenizer-0.1.3\n",
      "\n",
      "\u001b[1m[\u001b[0m\u001b[34;49mnotice\u001b[0m\u001b[1;39;49m]\u001b[0m\u001b[39;49m A new release of pip is available: \u001b[0m\u001b[31;49m25.0\u001b[0m\u001b[39;49m -> \u001b[0m\u001b[32;49m25.2\u001b[0m\n",
      "\u001b[1m[\u001b[0m\u001b[34;49mnotice\u001b[0m\u001b[1;39;49m]\u001b[0m\u001b[39;49m To update, run: \u001b[0m\u001b[32;49mpython3 -m pip install --upgrade pip\u001b[0m\n",
      "Note: you may need to restart the kernel to use updated packages.\n"
     ]
    }
   ],
   "source": [
    "pip install ultra-tokenizer"
   ]
  },
  {
   "cell_type": "code",
   "execution_count": null,
   "id": "043e24c0-02b2-4f7c-ab1e-3f0b5f118945",
   "metadata": {},
   "outputs": [],
   "source": []
  }
 ],
 "metadata": {
  "kernelspec": {
   "display_name": "Python 3 (myenv)",
   "language": "python",
   "name": "myenv"
  },
  "language_info": {
   "codemirror_mode": {
    "name": "ipython",
    "version": 3
   },
   "file_extension": ".py",
   "mimetype": "text/x-python",
   "name": "python",
   "nbconvert_exporter": "python",
   "pygments_lexer": "ipython3",
   "version": "3.13.1"
  }
 },
 "nbformat": 4,
 "nbformat_minor": 5
}
